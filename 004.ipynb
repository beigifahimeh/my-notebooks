{
 "cells": [
  {
   "cell_type": "markdown",
   "metadata": {},
   "source": [
    "# Exercise 04\n",
    "\n",
    "## Linear regression with gradient descent"
   ]
  },
  {
   "cell_type": "code",
   "execution_count": 1,
   "metadata": {},
   "outputs": [],
   "source": [
    "import numpy as np\n",
    "import sklearn.datasets\n",
    "import sklearn.metrics\n",
    "from numpy.linalg import inv\n",
    "import sklearn.model_selection"
   ]
  },
  {
   "cell_type": "markdown",
   "metadata": {},
   "source": [
    "Implement the linear regression model with full-batch gradient descent. You can copy parts of the code from last week's exercise."
   ]
  },
  {
   "cell_type": "code",
   "execution_count": null,
   "metadata": {},
   "outputs": [],
   "source": [
    "class LinearRegressorGD():\n",
    "    def __init__(self) -> None:\n",
    "        self.w = None\n",
    "\n",
    "    def _add_constant(self, X: np.ndarray):\n",
    "        return np.hstack((X, np.ones((len(X), 1))))\n",
    "\n",
    "    def fit(\n",
    "        self,\n",
    "        X: np.ndarray,\n",
    "        y: np.ndarray,\n",
    "        learning_rate: float = 1e-3,\n",
    "        n_epochs: int = 500,\n",
    "        random_state: int = 42,\n",
    "    ) -> None:\n",
    "        \"\"\"Fit the parameters of the model to the data with gradient descent.\n",
    "\n",
    "        Args:\n",
    "            X (np.ndarray): features\n",
    "            y (np.ndarray): targets\n",
    "            learning_rate (float): step size of gradient descent\n",
    "            n_epochs (int): number of parameter updates\n",
    "            random_state (int): seed for reproducibility\n",
    "        \"\"\"\n",
    "        # modify the features such that a bias can be learned easily\n",
    "        X = self._add_constant(X)\n",
    "        # initialize randomly\n",
    "        rng = np.random.default_rng(random_state)\n",
    "        self.w = rng.standard_normal(size=(X.shape[1], ))\n",
    "        \n",
    "        # gradient descent\n",
    "        for _ in range(n_epochs):\n",
    "            self.w = self.w - learning_rate * self._gradient_descent(X, y)\n",
    "\n",
    "    def _gradient_descent(self, X,  y: np.ndarray):\n",
    "            return X.T @ X @ self.w -  X.T @ y\n",
    "\n",
    "    def predict(self, X: np.ndarray) -> np.ndarray:\n",
    "        \"\"\"Use parameters to predict values\n",
    "\n",
    "        Args:\n",
    "            X (np.ndarray): features\n",
    "\n",
    "        Returns:\n",
    "            np.ndarray: predicted targets\n",
    "        \"\"\"\n",
    "        X = self._add_constant(X)\n",
    "        return X @ self.w\n",
    "\n",
    "X, y, true_coefs = sklearn.datasets.make_regression(n_samples=100, n_features=50, n_informative=3, random_state=0, coef=True, noise=10)\n",
    "X_train, X_test, y_train, y_test = sklearn.model_selection.train_test_split(X, y, random_state=0, train_size=0.7)\n",
    "\n",
    "model = LinearRegressorGD()\n",
    "model.fit(X_train, y_train, learning_rate=1e-3, n_epochs=100)\n",
    "\n",
    "y_pred = model.predict(X_train)\n",
    "print(\"R-squared (train)\", sklearn.metrics.r2_score(y_train, y_pred))\n",
    "\n",
    "y_pred = model.predict(X_test)\n",
    "print(\"R-squared (test)\", sklearn.metrics.r2_score(y_test, y_pred))"
   ]
  },
  {
   "cell_type": "markdown",
   "metadata": {},
   "source": [
    "Now implement the linear regression model with mini-batch gradient descent."
   ]
  },
  {
   "cell_type": "code",
   "execution_count": 27,
   "metadata": {},
   "outputs": [
    {
     "ename": "TypeError",
     "evalue": "only integer scalar arrays can be converted to a scalar index",
     "output_type": "error",
     "traceback": [
      "\u001b[0;31m---------------------------------------------------------------------------\u001b[0m",
      "\u001b[0;31mTypeError\u001b[0m                                 Traceback (most recent call last)",
      "\u001b[0;32m<ipython-input-27-a70407719026>\u001b[0m in \u001b[0;36m<module>\u001b[0;34m\u001b[0m\n\u001b[1;32m     40\u001b[0m \u001b[0;34m\u001b[0m\u001b[0m\n\u001b[1;32m     41\u001b[0m \u001b[0mmodel\u001b[0m \u001b[0;34m=\u001b[0m \u001b[0mLinearRegressorSGD\u001b[0m\u001b[0;34m(\u001b[0m\u001b[0;34m)\u001b[0m\u001b[0;34m\u001b[0m\u001b[0;34m\u001b[0m\u001b[0m\n\u001b[0;32m---> 42\u001b[0;31m \u001b[0mmodel\u001b[0m\u001b[0;34m.\u001b[0m\u001b[0mfit\u001b[0m\u001b[0;34m(\u001b[0m\u001b[0mX_train\u001b[0m\u001b[0;34m,\u001b[0m \u001b[0my_train\u001b[0m\u001b[0;34m,\u001b[0m \u001b[0mbatch_size\u001b[0m\u001b[0;34m=\u001b[0m\u001b[0;36m50\u001b[0m\u001b[0;34m,\u001b[0m \u001b[0mlearning_rate\u001b[0m\u001b[0;34m=\u001b[0m\u001b[0;36m1e-2\u001b[0m\u001b[0;34m,\u001b[0m \u001b[0mn_epochs\u001b[0m\u001b[0;34m=\u001b[0m\u001b[0;36m10\u001b[0m\u001b[0;34m)\u001b[0m\u001b[0;34m\u001b[0m\u001b[0;34m\u001b[0m\u001b[0m\n\u001b[0m\u001b[1;32m     43\u001b[0m \u001b[0;34m\u001b[0m\u001b[0m\n\u001b[1;32m     44\u001b[0m \u001b[0my_pred\u001b[0m \u001b[0;34m=\u001b[0m \u001b[0mmodel\u001b[0m\u001b[0;34m.\u001b[0m\u001b[0mpredict\u001b[0m\u001b[0;34m(\u001b[0m\u001b[0mX_train\u001b[0m\u001b[0;34m)\u001b[0m\u001b[0;34m\u001b[0m\u001b[0;34m\u001b[0m\u001b[0m\n",
      "\u001b[0;32m<ipython-input-27-a70407719026>\u001b[0m in \u001b[0;36mfit\u001b[0;34m(self, X, y, batch_size, learning_rate, n_epochs, random_state)\u001b[0m\n\u001b[1;32m     28\u001b[0m         \u001b[0;32mfor\u001b[0m \u001b[0m_\u001b[0m \u001b[0;32min\u001b[0m \u001b[0mrange\u001b[0m\u001b[0;34m(\u001b[0m\u001b[0mn_epochs\u001b[0m\u001b[0;34m)\u001b[0m\u001b[0;34m:\u001b[0m\u001b[0;34m\u001b[0m\u001b[0;34m\u001b[0m\u001b[0m\n\u001b[1;32m     29\u001b[0m             \u001b[0mindices\u001b[0m \u001b[0;34m=\u001b[0m \u001b[0mnp\u001b[0m\u001b[0;34m.\u001b[0m\u001b[0marange\u001b[0m\u001b[0;34m(\u001b[0m\u001b[0mlen\u001b[0m\u001b[0;34m(\u001b[0m\u001b[0mX\u001b[0m\u001b[0;34m)\u001b[0m\u001b[0;34m)\u001b[0m\u001b[0;34m\u001b[0m\u001b[0;34m\u001b[0m\u001b[0m\n\u001b[0;32m---> 30\u001b[0;31m             \u001b[0mrng\u001b[0m\u001b[0;34m.\u001b[0m\u001b[0mshuffle\u001b[0m\u001b[0;34m(\u001b[0m\u001b[0;34m\"1\"\u001b[0m\u001b[0;34m,\u001b[0m\u001b[0mindices\u001b[0m\u001b[0;34m)\u001b[0m\u001b[0;34m\u001b[0m\u001b[0;34m\u001b[0m\u001b[0m\n\u001b[0m\u001b[1;32m     31\u001b[0m             \u001b[0mbatch_indices\u001b[0m \u001b[0;34m=\u001b[0m \u001b[0mnp\u001b[0m\u001b[0;34m.\u001b[0m\u001b[0marray_split\u001b[0m\u001b[0;34m(\u001b[0m\u001b[0mindices\u001b[0m\u001b[0;34m,\u001b[0m \u001b[0mnp\u001b[0m\u001b[0;34m.\u001b[0m\u001b[0mceil\u001b[0m\u001b[0;34m(\u001b[0m\u001b[0mlen\u001b[0m\u001b[0;34m(\u001b[0m\u001b[0mX\u001b[0m\u001b[0;34m)\u001b[0m \u001b[0;34m/\u001b[0m \u001b[0mbatch_size\u001b[0m\u001b[0;34m)\u001b[0m\u001b[0;34m)\u001b[0m\u001b[0;34m\u001b[0m\u001b[0;34m\u001b[0m\u001b[0m\n\u001b[1;32m     32\u001b[0m \u001b[0;34m\u001b[0m\u001b[0m\n",
      "\u001b[0;32m_generator.pyx\u001b[0m in \u001b[0;36mnumpy.random._generator.Generator.shuffle\u001b[0;34m()\u001b[0m\n",
      "\u001b[0;31mTypeError\u001b[0m: only integer scalar arrays can be converted to a scalar index"
     ]
    }
   ],
   "source": [
    "class LinearRegressorSGD(LinearRegressorGD):\n",
    "    def fit(\n",
    "        self,\n",
    "        X: np.ndarray, \n",
    "        y: np.ndarray, \n",
    "        batch_size: int,\n",
    "        learning_rate: float=1e-3, \n",
    "        n_epochs: int=500, \n",
    "        random_state: int=42,\n",
    "        ) -> None:\n",
    "        \"\"\"Fit the parameters of the model to the data with stochastic gradient descent.\n",
    "\n",
    "        Args:\n",
    "            X (np.ndarray): features\n",
    "            y (np.ndarray): targets\n",
    "            batch_size (int): number of examples in a batch\n",
    "            learning_rate (float): step size of gradient descent\n",
    "            n_epochs (int): number of parameter updates\n",
    "            random_state (int): seed for reproducibility \n",
    "        \"\"\"\n",
    "        # modify the features such that a bias can be learned easily\n",
    "        X = self._add_constant(X)\n",
    "        \n",
    "        # initialize randomly\n",
    "        rng = np.random.default_rng(random_state)\n",
    "        self.w = rng.standard_normal(size=(X.shape[1], ))\n",
    "        # stochastic gradient descent\n",
    "        for _ in range(n_epochs):\n",
    "            indices = np.arange(len(X))\n",
    "            rng.shuffle(indices)\n",
    "            batch_indices = np.array_split(indices, np.ceil(len(X) / batch_size))\n",
    "        \n",
    "            for step, idx in enumerate(batch_indices):\n",
    "                print(\"1\",idx)\n",
    "                X_batch = X[idx, :]\n",
    "                print(X_batch)\n",
    "                y_batch = y[idx]\n",
    "                self.w = self.w - learning_rate * self._gradient_descent(X_batch, y_batch)\n",
    "            \n",
    "\n",
    "model = LinearRegressorSGD()\n",
    "model.fit(X_train, y_train, batch_size=50, learning_rate=1e-2, n_epochs=10)\n",
    "\n",
    "y_pred = model.predict(X_train)\n",
    "print(\"R-squared (train)\", sklearn.metrics.r2_score(y_train, y_pred))"
   ]
  },
  {
   "cell_type": "code",
   "execution_count": null,
   "metadata": {},
   "outputs": [],
   "source": []
  }
 ],
 "metadata": {
  "interpreter": {
   "hash": "780e223e49c598b4aa82d8318c6f1e6744c8b409488091a69e61e480bdf1c54b"
  },
  "kernelspec": {
   "display_name": "Python 3.8.8 64-bit ('base': conda)",
   "language": "python",
   "name": "python3"
  },
  "language_info": {
   "codemirror_mode": {
    "name": "ipython",
    "version": 3
   },
   "file_extension": ".py",
   "mimetype": "text/x-python",
   "name": "python",
   "nbconvert_exporter": "python",
   "pygments_lexer": "ipython3",
   "version": "3.8.8"
  },
  "orig_nbformat": 4
 },
 "nbformat": 4,
 "nbformat_minor": 2
}
