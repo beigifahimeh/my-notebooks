{
 "cells": [
  {
   "cell_type": "markdown",
   "metadata": {},
   "source": [
    "# Exercise 04\n",
    "\n",
    "## Linear regression with gradient descent"
   ]
  },
  {
   "cell_type": "code",
   "execution_count": 3,
   "metadata": {},
   "outputs": [],
   "source": [
    "import numpy as np\n",
    "import sklearn.datasets\n",
    "import sklearn.metrics\n",
    "from numpy.linalg import inv\n",
    "import sklearn.model_selection"
   ]
  },
  {
   "cell_type": "markdown",
   "metadata": {},
   "source": [
    "Implement the linear regression model with full-batch gradient descent. You can copy parts of the code from last week's exercise."
   ]
  },
  {
   "cell_type": "code",
   "execution_count": 83,
   "metadata": {},
   "outputs": [
    {
     "name": "stdout",
     "output_type": "stream",
     "text": [
      "R-squared (train) 0.9929838510969833\n",
      "R-squared (test) 0.8976453774949027\n"
     ]
    }
   ],
   "source": [
    "class LinearRegressorGD():\n",
    "    def __init__(self) -> None:\n",
    "        self.w = None\n",
    "\n",
    "    def _add_constant(self, X: np.ndarray):\n",
    "        return np.hstack((X, np.ones((len(X), 1))))\n",
    "\n",
    "    def fit(\n",
    "        self,\n",
    "        X: np.ndarray,\n",
    "        y: np.ndarray,\n",
    "        learning_rate: float = 1e-3,\n",
    "        n_epochs: int = 500,\n",
    "        random_state: int = 42,\n",
    "    ) -> None:\n",
    "        \"\"\"Fit the parameters of the model to the data with gradient descent.\n",
    "\n",
    "        Args:\n",
    "            X (np.ndarray): features\n",
    "            y (np.ndarray): targets\n",
    "            learning_rate (float): step size of gradient descent\n",
    "            n_epochs (int): number of parameter updates\n",
    "            random_state (int): seed for reproducibility\n",
    "        \"\"\"\n",
    "        # modify the features such that a bias can be learned easily\n",
    "        X = self._add_constant(X)\n",
    "        # initialize randomly\n",
    "        rng = np.random.default_rng(random_state)\n",
    "        self.w = rng.standard_normal(size=(X.shape[1], ))\n",
    "        \n",
    "        # gradient descent\n",
    "        for _ in range(n_epochs):\n",
    "            self.w = self.w - learning_rate * self._gradient_descent(X, y)\n",
    "\n",
    "    def _gradient_descent(self, X,  y: np.ndarray):\n",
    "            return X.T @ X @ self.w -  X.T @ y\n",
    "\n",
    "    def predict(self, X: np.ndarray) -> np.ndarray:\n",
    "        \"\"\"Use parameters to predict values\n",
    "\n",
    "        Args:\n",
    "            X (np.ndarray): features\n",
    "\n",
    "        Returns:\n",
    "            np.ndarray: predicted targets\n",
    "        \"\"\"\n",
    "        X = self._add_constant(X)\n",
    "        return X @ self.w\n",
    "\n",
    "X, y, true_coefs = sklearn.datasets.make_regression(n_samples=100, n_features=50, n_informative=3, random_state=0, coef=True, noise=10)\n",
    "X_train, X_test, y_train, y_test = sklearn.model_selection.train_test_split(X, y, random_state=0, train_size=0.7)\n",
    "\n",
    "model = LinearRegressorGD()\n",
    "model.fit(X_train, y_train, learning_rate=1e-3, n_epochs=100)\n",
    "\n",
    "y_pred = model.predict(X_train)\n",
    "print(\"R-squared (train)\", sklearn.metrics.r2_score(y_train, y_pred))\n",
    "\n",
    "y_pred = model.predict(X_test)\n",
    "print(\"R-squared (test)\", sklearn.metrics.r2_score(y_test, y_pred))"
   ]
  },
  {
   "cell_type": "markdown",
   "metadata": {},
   "source": [
    "Now implement the linear regression model with mini-batch gradient descent."
   ]
  },
  {
   "cell_type": "code",
   "execution_count": 85,
   "metadata": {},
   "outputs": [
    {
     "name": "stdout",
     "output_type": "stream",
     "text": [
      "R-squared (train) 0.9932332614283609\n"
     ]
    }
   ],
   "source": [
    "class LinearRegressorSGD(LinearRegressorGD):\n",
    "    def fit(\n",
    "        self,\n",
    "        X: np.ndarray, \n",
    "        y: np.ndarray, \n",
    "        batch_size: int,\n",
    "        learning_rate: float=1e-3, \n",
    "        n_epochs: int=500, \n",
    "        random_state: int=42,\n",
    "        ) -> None:\n",
    "        \"\"\"Fit the parameters of the model to the data with stochastic gradient descent.\n",
    "\n",
    "        Args:\n",
    "            X (np.ndarray): features\n",
    "            y (np.ndarray): targets\n",
    "            batch_size (int): number of examples in a batch\n",
    "            learning_rate (float): step size of gradient descent\n",
    "            n_epochs (int): number of parameter updates\n",
    "            random_state (int): seed for reproducibility \n",
    "        \"\"\"\n",
    "        # modify the features such that a bias can be learned easily\n",
    "        X = self._add_constant(X)\n",
    "        \n",
    "        # initialize randomly\n",
    "        rng = np.random.default_rng(random_state)\n",
    "        self.w = rng.standard_normal(size=(X.shape[1], ))\n",
    "        # stochastic gradient descent\n",
    "        for _ in range(n_epochs):\n",
    "            indices = np.arange(len(X))\n",
    "            rng.shuffle(indices)\n",
    "            batch_indices = np.array_split(indices, np.ceil(len(X) / batch_size))\n",
    "            for step, idx in enumerate(batch_indices):\n",
    "                X_batch = X[idx, :]\n",
    "                y_batch = y[idx]\n",
    "                self.w = self.w - learning_rate * self._gradient_descent(X_batch, y_batch)\n",
    "            \n",
    "\n",
    "model = LinearRegressorSGD()\n",
    "model.fit(X_train, y_train, batch_size=50, learning_rate=1e-2, n_epochs=10)\n",
    "\n",
    "y_pred = model.predict(X_train)\n",
    "print(\"R-squared (train)\", sklearn.metrics.r2_score(y_train, y_pred))"
   ]
  }
 ],
 "metadata": {
  "interpreter": {
   "hash": "780e223e49c598b4aa82d8318c6f1e6744c8b409488091a69e61e480bdf1c54b"
  },
  "kernelspec": {
   "display_name": "Python 3.8.8 64-bit ('base': conda)",
   "language": "python",
   "name": "python3"
  },
  "language_info": {
   "codemirror_mode": {
    "name": "ipython",
    "version": 3
   },
   "file_extension": ".py",
   "mimetype": "text/x-python",
   "name": "python",
   "nbconvert_exporter": "python",
   "pygments_lexer": "ipython3",
   "version": "3.8.8"
  },
  "orig_nbformat": 4
 },
 "nbformat": 4,
 "nbformat_minor": 2
}
