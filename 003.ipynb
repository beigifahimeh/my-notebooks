{
 "cells": [
  {
   "cell_type": "markdown",
   "metadata": {},
   "source": [
    "# Exercise 03\n",
    "\n",
    "This exercise will not be graded and is provided for practice.\n",
    "\n",
    "## Linear regression\n",
    "Implement the linear regression model $\\hat{y} = w_0 + w_1*x_1 + \\dots + w_n * x_n$. \n",
    "Use the analytical solution to find the optimal parameters.\n",
    "How do you have to modify to the data matrix $\\mathbf{X}$ to find the optimal $w_0$?"
   ]
  },
  {
   "cell_type": "code",
   "execution_count": 4,
   "metadata": {},
   "outputs": [],
   "source": [
    "import numpy as np\n",
    "from numpy.linalg import inv\n",
    "import sklearn.datasets\n",
    "import sklearn.metrics\n",
    "import sklearn.model_selection"
   ]
  },
  {
   "cell_type": "code",
   "execution_count": 7,
   "metadata": {},
   "outputs": [
    {
     "name": "stdout",
     "output_type": "stream",
     "text": [
      "R-squared (train) 0.9962173319667742\n"
     ]
    }
   ],
   "source": [
    "\n",
    "class LinearRegressor():\n",
    "    def __init__(self) -> None:\n",
    "        self.w = None\n",
    "\n",
    "    def _add_constant(self, X: np.ndarray):\n",
    "\n",
    "        return np.hstack((X, np.ones((len(X), 1))))\n",
    "\n",
    "    def fit(self, X: np.ndarray, y: np.ndarray) -> None:\n",
    "        \"\"\"Fit the parameters of the model to the data\n",
    "\n",
    "        Args:\n",
    "            X (np.ndarray): features\n",
    "            y (np.ndarray): targets\n",
    "        \"\"\"\n",
    "        X = self._add_constant(X)\n",
    "        X_tr = np.transpose(X)\n",
    "        self.w = inv(X_tr @ X) @ X_tr @ y\n",
    "\n",
    "    def predict(self, X: np.ndarray) -> np.ndarray:\n",
    "        \"\"\"Use parameters to predict values\n",
    "\n",
    "        Args:\n",
    "            X (np.ndarray): features\n",
    "\n",
    "        Returns:\n",
    "            np.ndarray: predicted targets\n",
    "        \"\"\"\n",
    "        X = self._add_constant(X)\n",
    "        return  X @ self.w\n",
    "\n",
    "\n",
    "X, y, true_coefs = sklearn.datasets.make_regression(\n",
    "    n_samples=100, n_features=50, n_informative=3, random_state=0, coef=True, noise=10)\n",
    "X_train, X_test, y_train, y_test = sklearn.model_selection.train_test_split(\n",
    "    X, y, random_state=0, train_size=0.7)\n",
    "model = LinearRegressor()\n",
    "model.fit(X_train, y_train)\n",
    "y_pred = model.predict(X_train)\n",
    "print(\"R-squared (train)\", sklearn.metrics.r2_score(y_train, y_pred))\n"
   ]
  },
  {
   "cell_type": "markdown",
   "metadata": {},
   "source": [
    "Run the next cell and observe how the model performs. Apart from splitting the data like in the previous cell, how can you evaluate the model robustly (04_slides)? Use `sklearn.model_selection` to implement it. Also implement R-squared as scoring function."
   ]
  },
  {
   "cell_type": "code",
   "execution_count": 8,
   "metadata": {},
   "outputs": [
    {
     "name": "stdout",
     "output_type": "stream",
     "text": [
      "R-squared (test) 0.917687692647308\n"
     ]
    }
   ],
   "source": [
    "y_pred = model.predict(X_test)\n",
    "print(\"R-squared (test)\", sklearn.metrics.r2_score(y_test, y_pred))"
   ]
  },
  {
   "cell_type": "code",
   "execution_count": 11,
   "metadata": {},
   "outputs": [
    {
     "name": "stdout",
     "output_type": "stream",
     "text": [
      "Avg R-squared: 0.9174901577520226\n"
     ]
    }
   ],
   "source": [
    "def r2_score(y, y_pred):\n",
    "    return 1 - np.mean((y - y_pred) ** 2) / y.var()\n",
    "\n",
    "\n",
    "# Evaluation of model here:\n",
    "scores = []\n",
    "for train_idx, test_idx in sklearn.model_selection.KFold(n_splits=10).split(X, y):\n",
    "    model = LinearRegressor()\n",
    "    model.fit(X[train_idx], y[train_idx])\n",
    "    score = r2_score(y[test_idx], model.predict(X[test_idx]))\n",
    "    scores.append(score)\n",
    "\n",
    "print(\"Avg R-squared:\", np.mean(scores))"
   ]
  },
  {
   "cell_type": "code",
   "execution_count": null,
   "metadata": {},
   "outputs": [],
   "source": []
  }
 ],
 "metadata": {
  "interpreter": {
   "hash": "780e223e49c598b4aa82d8318c6f1e6744c8b409488091a69e61e480bdf1c54b"
  },
  "kernelspec": {
   "display_name": "Python 3.8.8 64-bit ('base': conda)",
   "language": "python",
   "name": "python3"
  },
  "language_info": {
   "codemirror_mode": {
    "name": "ipython",
    "version": 3
   },
   "file_extension": ".py",
   "mimetype": "text/x-python",
   "name": "python",
   "nbconvert_exporter": "python",
   "pygments_lexer": "ipython3",
   "version": "3.8.8"
  },
  "orig_nbformat": 4
 },
 "nbformat": 4,
 "nbformat_minor": 2
}
