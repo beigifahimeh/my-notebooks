{
 "cells": [
  {
   "cell_type": "markdown",
   "metadata": {},
   "source": [
    "# Training an MLP for FashionMNIST"
   ]
  },
  {
   "cell_type": "markdown",
   "metadata": {},
   "source": [
    "To have a progress bar for training later, install tqdm and ipywidgets.\n",
    "If you use conda: conda install tqdm ipywidgets"
   ]
  },
  {
   "cell_type": "code",
   "execution_count": 15,
   "metadata": {},
   "outputs": [],
   "source": [
    "from typing import Tuple, Optional\n",
    "import torch\n",
    "import torch.nn as nn\n",
    "import torch.nn.functional as F\n",
    "import torch.utils.data\n",
    "import torchvision\n",
    "import sklearn.model_selection"
   ]
  },
  {
   "cell_type": "markdown",
   "metadata": {},
   "source": [
    "We can load the dataset comfortably using the torchvision library.\n",
    "Data instances correspond to images of fashion articles and are labelled as one of 10 classes."
   ]
  },
  {
   "cell_type": "code",
   "execution_count": 16,
   "metadata": {},
   "outputs": [],
   "source": [
    "# load data\n",
    "train_set_full = torchvision.datasets.FashionMNIST(\n",
    "    \"./data\", train=True, download=True, transform=torchvision.transforms.ToTensor()\n",
    ")\n",
    "test_set = torchvision.datasets.FashionMNIST(\n",
    "    \"./data\", train=False, download=True, transform=torchvision.transforms.ToTensor()\n",
    ")\n"
   ]
  },
  {
   "cell_type": "code",
   "execution_count": 17,
   "metadata": {},
   "outputs": [
    {
     "data": {
      "text/plain": [
       "<matplotlib.image.AxesImage at 0x7fcac933d3a0>"
      ]
     },
     "execution_count": 17,
     "metadata": {},
     "output_type": "execute_result"
    },
    {
     "data": {
      "image/png": "[encoded data removed]",
      "text/plain": [
       "<Figure size 432x288 with 1 Axes>"
      ]
     },
     "metadata": {
      "needs_background": "light"
     },
     "output_type": "display_data"
    }
   ],
   "source": [
    "import matplotlib.pyplot as plt\n",
    "img, target = train_set_full[231]\n",
    "plt.imshow(img.view(28, 28), cmap=\"binary\")\n"
   ]
  },
  {
   "cell_type": "markdown",
   "metadata": {},
   "source": [
    "Since FashionMNIST only gives us a train and a test set, we split the test set further into a train and a validation set.\n",
    "\n",
    "Q: What would happen if we used the test set instead of a validation set to tune our model?"
   ]
  },
  {
   "cell_type": "code",
   "execution_count": 18,
   "metadata": {},
   "outputs": [],
   "source": [
    "val_size = 0.2\n",
    "train_indices, val_indices = sklearn.model_selection.train_test_split(\n",
    "    range(len(train_set_full)),\n",
    "    stratify=train_set_full.targets,\n",
    "    test_size=val_size,\n",
    "    random_state=0,\n",
    ")\n",
    "train_set = torch.utils.data.Subset(train_set_full, train_indices)\n",
    "val_set = torch.utils.data.Subset(train_set_full, val_indices)\n",
    "\n",
    "\n",
    "train_loader = torch.utils.data.DataLoader(train_set, batch_size=500, shuffle=True)\n",
    "val_loader = torch.utils.data.DataLoader(val_set, batch_size=500, shuffle=False)\n",
    "test_loader = torch.utils.data.DataLoader(test_set, batch_size=500, shuffle=False)\n"
   ]
  },
  {
   "cell_type": "markdown",
   "metadata": {},
   "source": [
    "Now define a feedforward neural network that can process 28 by 28 images (e.g., by flattening the image into a single vector).\n",
    "\n",
    "You can look up network components in the pytorch documentation."
   ]
  },
  {
   "cell_type": "code",
   "execution_count": 19,
   "metadata": {},
   "outputs": [],
   "source": [
    "# Define a model\n",
    "class FeedForwardNet(nn.Module):\n",
    "    def __init__(self, hidden_dim, out_dim=10, img_shape=(28, 28),) -> None:\n",
    "        super().__init__()\n",
    "        in_dim = img_shape[0] * img_shape[1]\n",
    "        self.img_shape = img_shape\n",
    "        self.lin1 = nn.Linear(in_dim, hidden_dim)\n",
    "        self.act1 = nn.ReLU()\n",
    "        self.lin2 = nn.Linear(hidden_dim, out_dim)\n",
    "\n",
    "    def forward(self, x):\n",
    "        \"\"\"x has shape (batch_size, *img_size)\"\"\"\n",
    "        x = torch.flatten(x, start_dim=1)\n",
    "        x = self.lin1(x)\n",
    "        x = self.act1(x)\n",
    "        logits = self.lin2(x)\n",
    "        return logits\n"
   ]
  },
  {
   "cell_type": "code",
   "execution_count": 20,
   "metadata": {},
   "outputs": [],
   "source": [
    "device = torch.device(\"cuda:0\" if torch.cuda.is_available() else \"cpu\")\n"
   ]
  },
  {
   "cell_type": "markdown",
   "metadata": {},
   "source": [
    "Implement the following functions that will be used in the overall training loop."
   ]
  },
  {
   "cell_type": "code",
   "execution_count": 21,
   "metadata": {},
   "outputs": [],
   "source": [
    "def train_epoch(\n",
    "    model: torch.nn.Module,\n",
    "    loader: torch.utils.data.DataLoader,\n",
    "    criterion: torch.nn.Module,\n",
    "    optimizer: torch.optim.Optimizer,\n",
    ") -> float:\n",
    "    \"\"\"Train a model for one epoch\n",
    "\n",
    "    Args:\n",
    "        model (torch.nn.Module): model to be trained\n",
    "        loader (torch.utils.data.DataLoader): Dataloader for training data\n",
    "        criterion (torch.nn.Module): loss function\n",
    "        optimizer (torch.optim.Optimizer): optimizer\n",
    "\n",
    "    Returns:\n",
    "        float: total loss over one epoch\n",
    "    \"\"\"\n",
    "    total_loss = 0\n",
    "    for x, y in loader:\n",
    "        x, y = x.to(device), y.to(device)  # I am using device as a global variable, but you could pass it as well\n",
    "        out = model(x)\n",
    "        loss = criterion(out, y)\n",
    "        total_loss += loss.item()\n",
    "        optimizer.zero_grad()\n",
    "        loss.backward()\n",
    "        optimizer.step()\n",
    "    return total_loss\n",
    "\n",
    "\n",
    "@torch.no_grad()  # we dont want these operations to be recorded for automatic differentation, saves memory\n",
    "def validate(\n",
    "    model: torch.nn.Module,\n",
    "    loader: torch.utils.data.DataLoader,\n",
    "    criterion: torch.nn.Module = None,\n",
    ") -> Tuple[float, float]:\n",
    "    \"\"\"Compute total loss and accuracy\n",
    "\n",
    "    Args:\n",
    "        model (torch.nn.Module): model to be evaluated\n",
    "        loader (torch.utils.data.DataLoader): Dataloader for evaluation data\n",
    "        criterion (torch.nn.Module, optional): loss function. Defaults to None.\n",
    "\n",
    "    Returns:\n",
    "        Tuple[float, float]: total loss, accuracy\n",
    "    \"\"\"\n",
    "    total_loss = 0\n",
    "    total_correct = 0\n",
    "    for x, y in loader:\n",
    "        x, y = x.to(device), y.to(device)\n",
    "        out = model(x)\n",
    "        if criterion is not None:\n",
    "            loss = criterion(out, y)\n",
    "            total_loss += loss.item()\n",
    "        total_correct += (out.argmax(dim=1) == y).sum().item()\n",
    "    return total_loss, total_correct / len(loader.dataset)\n",
    "\n"
   ]
  },
  {
   "cell_type": "markdown",
   "metadata": {},
   "source": [
    "What accuracy can you reach on the validation set when trying out different model sizes and learning rates?"
   ]
  },
  {
   "cell_type": "code",
   "execution_count": 22,
   "metadata": {},
   "outputs": [
    {
     "name": "stdout",
     "output_type": "stream",
     "text": [
      "epoch=0: train_loss=73.922, train_acc=0.725, val_loss=18.770, val_acc=0.722\n",
      "epoch=1: train_loss=60.798, train_acc=0.783, val_loss=15.457, val_acc=0.774\n",
      "epoch=2: train_loss=53.770, train_acc=0.810, val_loss=13.677, val_acc=0.803\n",
      "epoch=3: train_loss=51.106, train_acc=0.815, val_loss=12.951, val_acc=0.806\n",
      "epoch=4: train_loss=49.621, train_acc=0.822, val_loss=12.534, val_acc=0.810\n",
      "epoch=5: train_loss=46.328, train_acc=0.832, val_loss=11.807, val_acc=0.824\n",
      "epoch=6: train_loss=45.944, train_acc=0.836, val_loss=11.645, val_acc=0.827\n",
      "epoch=7: train_loss=47.443, train_acc=0.832, val_loss=12.077, val_acc=0.822\n",
      "epoch=8: train_loss=43.161, train_acc=0.842, val_loss=10.964, val_acc=0.835\n",
      "epoch=9: train_loss=42.312, train_acc=0.848, val_loss=10.862, val_acc=0.840\n"
     ]
    }
   ],
   "source": [
    "hidden_dim = 200\n",
    "learning_rate = 1e-1\n",
    "\n",
    "model = FeedForwardNet(hidden_dim=hidden_dim).to(device)\n",
    "optimizer = torch.optim.SGD(model.parameters(), lr=learning_rate)\n",
    "criterion = nn.CrossEntropyLoss()\n",
    "\n",
    "n_epochs = 10  # change this as needed\n",
    "for epoch in range(n_epochs):\n",
    "    train_epoch(model, train_loader, criterion, optimizer)\n",
    "    train_loss, train_acc = validate(model, train_loader, criterion=criterion)\n",
    "    val_loss, val_acc = validate(model, val_loader, criterion=criterion)\n",
    "    print(\n",
    "        f\"{epoch=}: {train_loss=:.3f}, {train_acc=:.3f}, {val_loss=:.3f}, {val_acc=:.3f}\"\n",
    "    )\n"
   ]
  },
  {
   "cell_type": "code",
   "execution_count": null,
   "metadata": {},
   "outputs": [],
   "source": []
  }
 ],
 "metadata": {
  "interpreter": {
   "hash": "3b31a3aaeeda4af9c04893663190159bf2000bd9935849b890345d37678b4dc3"
  },
  "kernelspec": {
   "display_name": "Python 3.9.7 64-bit ('idl21': conda)",
   "language": "python",
   "name": "python3"
  },
  "language_info": {
   "codemirror_mode": {
    "name": "ipython",
    "version": 3
   },
   "file_extension": ".py",
   "mimetype": "text/x-python",
   "name": "python",
   "nbconvert_exporter": "python",
   "pygments_lexer": "ipython3",
   "version": "3.9.0"
  },
  "orig_nbformat": 4
 },
 "nbformat": 4,
 "nbformat_minor": 2
}
