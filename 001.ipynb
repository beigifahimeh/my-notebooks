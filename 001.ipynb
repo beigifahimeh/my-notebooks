{
 "cells": [
  {
   "cell_type": "markdown",
   "metadata": {},
   "source": [
    "EigenPairs"
   ]
  },
  {
   "cell_type": "code",
   "execution_count": 25,
   "metadata": {},
   "outputs": [
    {
     "name": "stdout",
     "output_type": "stream",
     "text": [
      "[4. 1.] [[ 0.70710678 -0.4472136 ]\n",
      " [ 0.70710678  0.89442719]]\n",
      "4.0 1.0\n",
      "[0.70710678 0.70710678]\n",
      "[2.82842712 2.82842712]\n",
      "True\n"
     ]
    }
   ],
   "source": [
    "import numpy as np\n",
    "data = [[3, 1], [2, 2]]\n",
    "w, v = np.linalg.eig(data)\n",
    "# print eigenvalue and eigenvector\n",
    "print(w, v)\n",
    "# for making sure that eigenvalue and eigenvector is correct we have to just check this condition Av = λv\n",
    "print(np.allclose(np.dot(data, v[:, 0]), np.dot(w[0], v[:, 0])))"
   ]
  },
  {
   "cell_type": "code",
   "execution_count": 49,
   "metadata": {},
   "outputs": [
    {
     "name": "stdout",
     "output_type": "stream",
     "text": [
      "[[1 3 5]\n",
      " [2 4 6]\n",
      " [3 5 7]]\n",
      "[[1 3 5]\n",
      " [2 4 6]\n",
      " [3 5 7]]\n"
     ]
    }
   ],
   "source": [
    "a = np.array([[1, 2,3], [3, 4,5],[5,6,7]])\n",
    "print(a.T)\n",
    "print(a.transpose())"
   ]
  },
  {
   "cell_type": "code",
   "execution_count": 44,
   "metadata": {},
   "outputs": [
    {
     "name": "stdout",
     "output_type": "stream",
     "text": [
      "[[ 0.29769568  0.94131607 -0.15906393 -0.78673469  0.17238272]\n",
      " [ 0.57050856 -0.17481584  0.0332003  -0.09936245  0.08563818]\n",
      " [ 0.52074297 -0.04034212  0.73585663  0.21995086 -0.19713125]\n",
      " [ 0.32257847 -0.18826321 -0.5103921   0.56795623 -0.78393509]\n",
      " [ 0.45898491 -0.21515796 -0.41425998 -0.01493222  0.55635901]]\n",
      "True\n"
     ]
    }
   ],
   "source": [
    "b = np.array([[1,2,3],[3,4,5],[5,4,3],[0,2,4],[1,3,5]]) \n",
    "eigvals, eigvecs = np.linalg.eig(b @ b.T)\n",
    "print(np.allclose(np.dot(b @ b.T,eigvecs[:,0]),np.dot(eigvals[0],eigvecs[:,0])))"
   ]
  }
 ],
 "metadata": {
  "interpreter": {
   "hash": "aee8b7b246df8f9039afb4144a1f6fd8d2ca17a180786b69acc140d282b71a49"
  },
  "kernelspec": {
   "display_name": "Python 3 (ipykernel)",
   "language": "python",
   "name": "python3"
  },
  "language_info": {
   "codemirror_mode": {
    "name": "ipython",
    "version": 3
   },
   "file_extension": ".py",
   "mimetype": "text/x-python",
   "name": "python",
   "nbconvert_exporter": "python",
   "pygments_lexer": "ipython3",
   "version": "3.9.7"
  }
 },
 "nbformat": 4,
 "nbformat_minor": 4
}
