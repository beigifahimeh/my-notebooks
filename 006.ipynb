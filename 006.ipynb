{
 "cells": [
  {
   "cell_type": "markdown",
   "id": "1c11ab35",
   "metadata": {},
   "source": [
    "# Introduction to Pytorch\n",
    "\n",
    "A short introduction to training models with pytorch.\n",
    "\n",
    "Check out the links at the bottom of the notebook for further information."
   ]
  },
  {
   "cell_type": "markdown",
   "id": "124f5928",
   "metadata": {},
   "source": [
    "## What is Pytorch?\n",
    "\n",
    "- Numpy on GPU\n",
    "- Library for neural network components\n",
    "- Automatic differentiation engine\n",
    "- Library for optimization methods"
   ]
  },
  {
   "cell_type": "markdown",
   "id": "5fa32dd8",
   "metadata": {},
   "source": [
    "### Numpy"
   ]
  },
  {
   "cell_type": "code",
   "execution_count": 2,
   "id": "23a3cae4",
   "metadata": {},
   "outputs": [],
   "source": [
    "import torch\n",
    "import numpy as np\n",
    "\n",
    "data = [[1, 2], [3, 4]]"
   ]
  },
  {
   "cell_type": "code",
   "execution_count": 6,
   "id": "7aaa8704",
   "metadata": {},
   "outputs": [
    {
     "name": "stdout",
     "output_type": "stream",
     "text": [
      "[[1 2]\n",
      " [3 4]] <class 'numpy.ndarray'>\n"
     ]
    }
   ],
   "source": [
    "np_x = np.array(data)\n",
    "print(np_x, type(np_x))"
   ]
  },
  {
   "cell_type": "code",
   "execution_count": 7,
   "id": "707d19f1",
   "metadata": {},
   "outputs": [
    {
     "name": "stdout",
     "output_type": "stream",
     "text": [
      "tensor([[1, 2],\n",
      "        [3, 4]]) torch.int64\n"
     ]
    }
   ],
   "source": [
    "x = torch.tensor(data)\n",
    "print(x, x.dtype)"
   ]
  },
  {
   "cell_type": "markdown",
   "id": "4655368d",
   "metadata": {},
   "source": [
    "Torch and numpy can be directly translated:"
   ]
  },
  {
   "cell_type": "code",
   "execution_count": 8,
   "id": "c312a50f",
   "metadata": {},
   "outputs": [
    {
     "name": "stdout",
     "output_type": "stream",
     "text": [
      "tensor([[1, 2],\n",
      "        [3, 4]])\n"
     ]
    }
   ],
   "source": [
    "torch_x = torch.from_numpy(np_x)\n",
    "print(torch_x)"
   ]
  },
  {
   "cell_type": "markdown",
   "id": "e97f74a1",
   "metadata": {},
   "source": [
    "They can share memory:"
   ]
  },
  {
   "cell_type": "code",
   "execution_count": null,
   "id": "59c88dcf",
   "metadata": {},
   "outputs": [],
   "source": [
    "torch_x[0, 0] = 100\n",
    "torch_x, np_x"
   ]
  },
  {
   "cell_type": "markdown",
   "id": "68bfd2f8",
   "metadata": {},
   "source": [
    "Difference in returned values:"
   ]
  },
  {
   "cell_type": "code",
   "execution_count": null,
   "id": "7fbc880d",
   "metadata": {},
   "outputs": [],
   "source": [
    "np_x = np.array(data)\n",
    "print(x[0, 0], np_x[0, 0])\n",
    "\n",
    "print(x[0, 0].item())"
   ]
  },
  {
   "cell_type": "markdown",
   "id": "75bf4396",
   "metadata": {},
   "source": [
    "Operations work just like numpy:"
   ]
  },
  {
   "cell_type": "code",
   "execution_count": null,
   "id": "a586fd96",
   "metadata": {},
   "outputs": [],
   "source": [
    "print(x @ x.T)\n",
    "\n",
    "print(np_x @ np_x.T)"
   ]
  },
  {
   "cell_type": "markdown",
   "id": "4550e258",
   "metadata": {},
   "source": [
    "You need the numpy array back?"
   ]
  },
  {
   "cell_type": "code",
   "execution_count": null,
   "id": "1241d474",
   "metadata": {},
   "outputs": [],
   "source": [
    "x.numpy()"
   ]
  },
  {
   "cell_type": "code",
   "execution_count": null,
   "id": "cea7c2d7",
   "metadata": {},
   "outputs": [],
   "source": [
    "%%time\n",
    "device = torch.device(\"cpu\")\n",
    "#device = torch.device(\"cuda:1\")\n",
    "\n",
    "l = 100\n",
    "a = np.ones((l, l))\n",
    "\n",
    "for _ in range(1000):\n",
    "    a += a\n",
    "\n",
    "a"
   ]
  },
  {
   "cell_type": "markdown",
   "id": "6d8d72d9",
   "metadata": {},
   "source": [
    "### Training a model\n",
    "\n",
    "5 steps:\n",
    "1. forward\n",
    "2. compute loss\n",
    "3. zero gradients\n",
    "4. compute new gradients (backwards)\n",
    "5. optimization step"
   ]
  },
  {
   "cell_type": "code",
   "execution_count": 3,
   "id": "2f8ffbcc",
   "metadata": {},
   "outputs": [],
   "source": [
    "import matplotlib.pyplot as plt"
   ]
  },
  {
   "cell_type": "code",
   "execution_count": null,
   "id": "44fb9363",
   "metadata": {},
   "outputs": [],
   "source": [
    "# Generate some fake data\n",
    "N = 1000\n",
    "dims = 2\n",
    "x = torch.randn(N, dims)\n",
    "#y = (torch.linalg.norm(x, ord=2, dim=1))\n",
    "y = (torch.linalg.norm(x, ord=2, dim=1) <= 1.2).long()\n",
    "n_classes = 2\n",
    "\n",
    "plt.figure(figsize=(7, 7))\n",
    "plt.scatter(x[y == 0, 0], x[y == 0, 1], color=\"blue\")\n",
    "plt.scatter(x[y == 1, 0], x[y == 1, 1], color=\"orange\")\n",
    "\n",
    "(y==1).sum()"
   ]
  },
  {
   "cell_type": "code",
   "execution_count": null,
   "id": "ac10c9e6",
   "metadata": {},
   "outputs": [],
   "source": [
    "# define a simple model\n",
    "hidden_dim = 1000\n",
    "input_dim = dims\n",
    "\n",
    "# define a loss function\n",
    "criterion = torch.nn.CrossEntropyLoss()\n",
    "\n",
    "# define an optimizer\n",
    "learning_rate = 0.001\n",
    "optimizer = torch.optim.SGD(\n",
    "    model.parameters(),\n",
    "    lr=learning_rate,\n",
    "    weight_decay=0.0001\n",
    ")\n",
    "\n",
    "num_epochs = 3000\n",
    "for i in range(num_epochs):\n",
    "    \n",
    "    # Step 1: forward pass\n",
    "    y_pred = model(x)\n",
    "    \n",
    "    # Step 2: compute loss\n",
    "    loss = criterion(y_pred, y)\n",
    "    \n",
    "    # (Compute accuracy)\n",
    "    if i % 100 == 0:\n",
    "        acc = (y_pred.argmax(dim=1) == y).sum() / len(y)\n",
    "        print(f\"Epoch {i}, {acc.item()=:.3f}\")\n",
    "    \n",
    "    # Step 3: Zero the gradients\n",
    "    optimizer.zero_grad()\n",
    "    \n",
    "    # Step 4: Backward pass to compute gradients\n",
    "    loss.backward()\n",
    "    \n",
    "    # Step 5: Update params\n",
    "    optimizer.step()"
   ]
  },
  {
   "cell_type": "code",
   "execution_count": null,
   "id": "725f244e",
   "metadata": {},
   "outputs": [],
   "source": [
    "# Look at output\n",
    "with torch.no_grad():\n",
    "    y_pred = model(x)\n",
    "    y_pred = (y_pred.argmax(axis=1))\n",
    "\n",
    "fig, axes = plt.subplots(ncols=2, figsize=(12, 6))\n",
    "\n",
    "axes[0].scatter(x[y == 0, 0], x[y == 0, 1], color=\"blue\")\n",
    "axes[0].scatter(x[y == 1, 0], x[y == 1, 1], color=\"orange\")\n",
    "axes[0].set_title(\"True classes\")\n",
    "\n",
    "axes[1].scatter(x[y_pred == 0, 0], x[y_pred == 0, 1], color=\"blue\")\n",
    "axes[1].scatter(x[y_pred == 1, 0], x[y_pred == 1, 1], color=\"orange\")\n",
    "axes[1].set_title(\"Predicted classes\")"
   ]
  },
  {
   "cell_type": "markdown",
   "id": "085321c2",
   "metadata": {},
   "source": [
    "### What about GPU?"
   ]
  },
  {
   "cell_type": "code",
   "execution_count": 21,
   "id": "f919c299",
   "metadata": {},
   "outputs": [
    {
     "data": {
      "text/plain": [
       "device(type='cpu')"
      ]
     },
     "execution_count": 21,
     "metadata": {},
     "output_type": "execute_result"
    }
   ],
   "source": [
    "device = torch.device(\"cuda:0\" if torch.cuda.is_available() else \"cpu\")\n",
    "device"
   ]
  },
  {
   "cell_type": "code",
   "execution_count": null,
   "id": "765bee62",
   "metadata": {},
   "outputs": [],
   "source": [
    "# Put data on device\n",
    "x = x.to(device) # <-------------------------------\n",
    "y = y.to(device) # <-------------------------------\n",
    "\n",
    "# define a simple model\n",
    "hidden_dim = 100\n",
    "input_dim = dims\n",
    "\n",
    "model = torch.nn.Sequential(\n",
    "    torch.nn.Linear(input_dim, hidden_dim),\n",
    "    torch.nn.ReLU(),\n",
    "    torch.nn.Linear(hidden_dim, n_classes)\n",
    ")\n",
    "model = model.to(device)  # <-------------------------------\n",
    "\n",
    "# define a loss function\n",
    "criterion = torch.nn.CrossEntropyLoss()\n",
    "\n",
    "# define an optimizer\n",
    "learning_rate = 0.001\n",
    "optimizer = torch.optim.SGD(\n",
    "    model.parameters(),\n",
    "    lr=learning_rate,\n",
    "    weight_decay=0.0001\n",
    ")\n",
    "\n",
    "num_epochs = 3000\n",
    "for i in range(num_epochs):\n",
    "    \n",
    "    # Step 1: forward pass\n",
    "    y_pred = model(x)\n",
    "    \n",
    "    # Step 2: compute loss\n",
    "    loss = criterion(y_pred, y)\n",
    "    \n",
    "    # (Compute accuracy)\n",
    "    if i % 100 == 0:\n",
    "        acc = (y_pred.argmax(dim=1) == y).sum() / len(y)\n",
    "        print(f\"Epoch {i}, {acc.item()=:.3f}\")\n",
    "    \n",
    "    # Step 3: Zero the gradients\n",
    "    optimizer.zero_grad()\n",
    "    \n",
    "    # Step 4: Backward pass to compute gradients\n",
    "    loss.backward()\n",
    "    \n",
    "    # Step 5: Update params\n",
    "    optimizer.step()"
   ]
  },
  {
   "cell_type": "markdown",
   "id": "faf9c3f9",
   "metadata": {},
   "source": [
    "### Custom datasets\n",
    "https://pytorch.org/tutorials/beginner/basics/data_tutorial.html?highlight=dataset"
   ]
  },
  {
   "cell_type": "code",
   "execution_count": null,
   "id": "45998e3b",
   "metadata": {},
   "outputs": [],
   "source": [
    "class MyDataset(torch.utils.data.Dataset):\n",
    "    def __init__(self, *args):\n",
    "        # load data\n",
    "        pass\n",
    "    \n",
    "    def __len__(self):\n",
    "        pass\n",
    "    \n",
    "    def __getitem__(self, idx):\n",
    "        pass  # data, target"
   ]
  },
  {
   "cell_type": "code",
   "execution_count": null,
   "id": "96352894",
   "metadata": {},
   "outputs": [],
   "source": [
    "class CircleDataset(torch.utils.data.Dataset):\n",
    "    def __init__(self, x, y):\n",
    "        self.x = x\n",
    "        self.y = y\n",
    "    \n",
    "    def __len__(self):\n",
    "        return len(self.x)\n",
    "    \n",
    "    def __getitem__(self, idx):\n",
    "        #return features, label\n",
    "        return self.x[idx], self.y[idx]"
   ]
  },
  {
   "cell_type": "code",
   "execution_count": null,
   "id": "f35c6b6a",
   "metadata": {},
   "outputs": [],
   "source": [
    "# Define the dataset and dataloader\n",
    "dataset = CircleDataset(x, y)\n",
    "loader = torch.utils.data.DataLoader(dataset, batch_size=10, shuffle=True)\n",
    "dataset[0]"
   ]
  },
  {
   "cell_type": "code",
   "execution_count": null,
   "id": "0a69edef",
   "metadata": {},
   "outputs": [],
   "source": [
    "next(iter(loader))  # (10, 2),  (10)"
   ]
  },
  {
   "cell_type": "code",
   "execution_count": 30,
   "id": "797707e9",
   "metadata": {},
   "outputs": [
    {
     "ename": "NameError",
     "evalue": "name 'device' is not defined",
     "output_type": "error",
     "traceback": [
      "\u001b[0;31m---------------------------------------------------------------------------\u001b[0m",
      "\u001b[0;31mNameError\u001b[0m                                 Traceback (most recent call last)",
      "\u001b[0;32m/var/folders/zl/bg2svp8n25bddcgvsh5sfzf80000gn/T/ipykernel_5038/975771697.py\u001b[0m in \u001b[0;36m<module>\u001b[0;34m\u001b[0m\n\u001b[1;32m      8\u001b[0m     \u001b[0mtorch\u001b[0m\u001b[0;34m.\u001b[0m\u001b[0mnn\u001b[0m\u001b[0;34m.\u001b[0m\u001b[0mLinear\u001b[0m\u001b[0;34m(\u001b[0m\u001b[0mhidden_dim\u001b[0m\u001b[0;34m,\u001b[0m \u001b[0mn_classes\u001b[0m\u001b[0;34m)\u001b[0m\u001b[0;34m\u001b[0m\u001b[0;34m\u001b[0m\u001b[0m\n\u001b[1;32m      9\u001b[0m )\n\u001b[0;32m---> 10\u001b[0;31m \u001b[0mmodel\u001b[0m \u001b[0;34m=\u001b[0m \u001b[0mmodel\u001b[0m\u001b[0;34m.\u001b[0m\u001b[0mto\u001b[0m\u001b[0;34m(\u001b[0m\u001b[0mdevice\u001b[0m\u001b[0;34m)\u001b[0m  \u001b[0;31m# <-------------------------------\u001b[0m\u001b[0;34m\u001b[0m\u001b[0;34m\u001b[0m\u001b[0m\n\u001b[0m\u001b[1;32m     11\u001b[0m \u001b[0;34m\u001b[0m\u001b[0m\n\u001b[1;32m     12\u001b[0m \u001b[0;31m# define a loss function\u001b[0m\u001b[0;34m\u001b[0m\u001b[0;34m\u001b[0m\u001b[0;34m\u001b[0m\u001b[0m\n",
      "\u001b[0;31mNameError\u001b[0m: name 'device' is not defined"
     ]
    }
   ],
   "source": [
    "# define a simple model\n",
    "hidden_dim = 100\n",
    "input_dim = dims\n",
    "\n",
    "model = torch.nn.Sequential(\n",
    "    torch.nn.Linear(input_dim, hidden_dim),\n",
    "    torch.nn.ReLU(),\n",
    "    torch.nn.Linear(hidden_dim, n_classes)\n",
    ")\n",
    "model = model.to(device)  # <-------------------------------\n",
    "\n",
    "# define a loss function\n",
    "criterion = torch.nn.CrossEntropyLoss()\n",
    "\n",
    "# define an optimizer\n",
    "learning_rate = 0.001\n",
    "optimizer = torch.optim.SGD(\n",
    "    model.parameters(),\n",
    "    lr=learning_rate,\n",
    "    weight_decay=0.0001\n",
    ")\n",
    "\n",
    "num_epochs = 100\n",
    "for i in range(num_epochs):\n",
    "    correct = 0\n",
    "    for x, y in loader:\n",
    "        x, y = x.to(device), y.to(device)\n",
    "        \n",
    "        # Step 1: forward pass\n",
    "        y_pred = model(x)\n",
    "\n",
    "        # Step 2: compute loss\n",
    "        loss = criterion(y_pred, y)\n",
    "\n",
    "        # Step 3: Zero the gradients\n",
    "        optimizer.zero_grad()\n",
    "\n",
    "        # Step 4: Backward pass to compute gradients\n",
    "        loss.backward()\n",
    "\n",
    "        # Step 5: Update params\n",
    "        optimizer.step()\n",
    "        \n",
    "        correct += (y_pred.argmax(dim=1) == y).sum()\n",
    "    # (Compute accuracy)\n",
    "    if i % 5 == 0:\n",
    "        acc = correct / len(loader.dataset)\n",
    "        print(f\"Epoch {i}, {acc.item()=:.3f}\")"
   ]
  },
  {
   "cell_type": "markdown",
   "id": "53c479c8",
   "metadata": {},
   "source": [
    "### A more realistic example: MNIST"
   ]
  },
  {
   "cell_type": "code",
   "execution_count": null,
   "id": "db8deb6c",
   "metadata": {},
   "outputs": [],
   "source": [
    "import torchvision.transforms as transforms\n",
    "from torchvision.datasets import MNIST"
   ]
  },
  {
   "cell_type": "code",
   "execution_count": null,
   "id": "ef7e5f6e",
   "metadata": {
    "scrolled": true
   },
   "outputs": [],
   "source": [
    "# transform data in right format\n",
    "transform = transforms.ToTensor()\n",
    "\n",
    "train_dataset = MNIST(\"./mnist_data\", train=True, download=True, transform=transform)\n",
    "test_dataset = MNIST(\"./mnist_data\", train=False, download=True, transform=transform)\n",
    "print(len(train_dataset), len(test_dataset))"
   ]
  },
  {
   "cell_type": "code",
   "execution_count": null,
   "id": "e358d099",
   "metadata": {},
   "outputs": [],
   "source": [
    "plt.imshow(train_dataset[0][0].reshape(28, 28))"
   ]
  },
  {
   "cell_type": "code",
   "execution_count": null,
   "id": "36f6df77",
   "metadata": {},
   "outputs": [],
   "source": [
    "# A lot of data so we want to work in batches on it\n",
    "train_loader = torch.utils.data.DataLoader(\n",
    "    train_dataset,\n",
    "    batch_size=16,\n",
    "    shuffle=True\n",
    ")\n",
    "test_loader = torch.utils.data.DataLoader(\n",
    "    test_dataset,\n",
    "    batch_size=16,\n",
    "    shuffle=False\n",
    ")"
   ]
  },
  {
   "cell_type": "code",
   "execution_count": null,
   "id": "4890759e",
   "metadata": {},
   "outputs": [],
   "source": [
    "import torch.nn.functional as F\n",
    "\n",
    "\n",
    "# define more complex models as classes\n",
    "class SimpleNet(torch.nn.Module):\n",
    "    def __init__(self, image_size=(28, 28), hidden_dim=100, output_dim=10):\n",
    "        super().__init__()\n",
    "        self.input_dim = image_size[0] * image_size[1]\n",
    "        self.hidden_dim = hidden_dim\n",
    "        self.output_dim = output_dim\n",
    "        \n",
    "        self.lin1 = torch.nn.Linear(self.input_dim, self.hidden_dim)\n",
    "        self.lin2 = torch.nn.Linear(self.hidden_dim, self.hidden_dim)\n",
    "        self.lin3 = torch.nn.Linear(self.hidden_dim, self.output_dim)\n",
    "        \n",
    "    def forward(self, x):\n",
    "        x = x.view(-1, self.input_dim)# with flatten x (work with just 1 vector)\n",
    "        x = self.lin1(x)\n",
    "        x = F.relu(x)      \n",
    "        x = self.lin2(x)\n",
    "        x = F.relu(x)\n",
    "        x = self.lin3(x)\n",
    "        return x"
   ]
  },
  {
   "cell_type": "code",
   "execution_count": null,
   "id": "1d4e7db9",
   "metadata": {},
   "outputs": [],
   "source": [
    "learning_rate = 1e-3\n",
    "\n",
    "model = SimpleNet(hidden_dim=100).to(device)\n",
    "criterion = torch.nn.CrossEntropyLoss()\n",
    "optimizer = torch.optim.Adam(model.parameters(), lr=learning_rate)\n",
    "\n",
    "num_epochs = 100\n",
    "for i in range(num_epochs):\n",
    "    # training\n",
    "    model.train()\n",
    "    for x, y in train_loader:  # x.shape = (batchsize, 1, 28, 28)\n",
    "        x, y = x.to(device), y.to(device)\n",
    "        y_pred = model(x)\n",
    "        loss = criterion(y_pred, y)\n",
    "        optimizer.zero_grad()\n",
    "        loss.backward()\n",
    "        optimizer.step()\n",
    "        \n",
    "    # testing\n",
    "    test_loss = 0\n",
    "    correct = 0\n",
    "    model.eval()\n",
    "    with torch.no_grad():\n",
    "        for x, y in test_loader:\n",
    "            x, y = x.to(device), y.to(device)\n",
    "            pred = model(x)\n",
    "            pred = pred.argmax(dim=1)\n",
    "            correct += (pred == y).sum().item()\n",
    "    \n",
    "    print(f\"{correct}/{len(test_loader.dataset)} \"\n",
    "          f\"({correct / len(test_loader.dataset):.3f})\")\n",
    "    "
   ]
  },
  {
   "cell_type": "markdown",
   "id": "196d274c",
   "metadata": {},
   "source": [
    "## There is more:\n",
    "\n",
    "* Model checkpointing/restoring models\n",
    "* Using pretrained models\n",
    "* Tuning the optimization procedure\n",
    "* (Tracking experiments)\n",
    "\n",
    "General tutorials: \n",
    "* https://pytorch.org/tutorials/\n",
    "\n",
    "Avoiding boilerplate code:\n",
    "* https://skorch.readthedocs.io/en/latest/?badge=latest\n",
    "* https://www.pytorchlightning.ai/\n",
    "\n",
    "Pretrained models:\n",
    "* https://pytorch.org/vision/stable/models.html (Vision)\n",
    "* https://huggingface.co/models (NLP)\n",
    "\n",
    "Experiment tracking (very useful, but skip this for now):\n",
    "* guild.ai\n",
    "* wandb.ai\n",
    "* dvc.org\n",
    "* maaaany more...\n"
   ]
  }
 ],
 "metadata": {
  "kernelspec": {
   "display_name": "Python 3 (ipykernel)",
   "language": "python",
   "name": "python3"
  },
  "language_info": {
   "codemirror_mode": {
    "name": "ipython",
    "version": 3
   },
   "file_extension": ".py",
   "mimetype": "text/x-python",
   "name": "python",
   "nbconvert_exporter": "python",
   "pygments_lexer": "ipython3",
   "version": "3.9.0"
  }
 },
 "nbformat": 4,
 "nbformat_minor": 5
}
