{
 "cells": [
  {
   "cell_type": "markdown",
   "id": "63369426",
   "metadata": {},
   "source": [
    "# A Neural Network for the XOR Problem"
   ]
  },
  {
   "cell_type": "code",
   "execution_count": 2,
   "id": "cb2f6542",
   "metadata": {},
   "outputs": [],
   "source": [
    "import torch\n",
    "import torch.nn as nn"
   ]
  },
  {
   "cell_type": "code",
   "execution_count": 8,
   "id": "7afc356b",
   "metadata": {},
   "outputs": [],
   "source": [
    "def accuracy(y_pred: torch.Tensor, y_true: torch.Tensor) -> float:\n",
    "    \"\"\"Compute the accuracy\n",
    "\n",
    "    Args:\n",
    "        y_pred (torch.Tensor): shape of (n_instances, n_classes), every row has scores for every class\n",
    "        y_true (torch.Tensor): shape of (n_instances,), every row has the true label\n",
    "\n",
    "    Returns:\n",
    "        float: accuracy\n",
    "    \"\"\"\n",
    "    return (y_pred.argmax(dim=1) == y_true).sum().item() / len(y_true)"
   ]
  },
  {
   "cell_type": "code",
   "execution_count": null,
   "id": "f11bd9ad",
   "metadata": {},
   "outputs": [],
   "source": [
    "# XOR data\n",
    "x = torch.tensor(\n",
    "    [\n",
    "        [0, 0],\n",
    "        [0, 1],\n",
    "        [1, 0],\n",
    "        [1, 1],\n",
    "    ]\n",
    ").float()\n",
    "y = torch.tensor([0, 1, 1, 0]).long()\n",
    "n_classes = 2\n",
    "\n",
    "\n",
    "# Define a model\n",
    "# You can use a class (inheriting from nn.Module, __init__ and forward need to be implemented)\n",
    "# or the torch.nn.Sequential container.\n",
    "# Use nn.Sigmoid as the activation function in the hidden layer.\n",
    "hidden_dim = 20\n",
    "input_dim =2\n",
    "model = torch.nn.Sequential(\n",
    "    torch.nn.Linear(input_dim,hidden_dim,bias=True),\n",
    "    torch.nn.ReLU(),\n",
    "    torch.nn.Linear(hidden_dim,n_classes)\n",
    ")  # <-------------------------------------------------------- change this\n",
    "\n",
    "# Define the optimizer and the learning rate\n",
    "learning_rate =1e-2 # <--------------------------------------------------------- change this\n",
    "optim = torch.optim.SGD(model.parameters(), lr=learning_rate)\n",
    "\n",
    "# Define the loss function\n",
    "criterion = nn.CrossEntropyLoss()\n",
    "\n",
    "n_epochs = 50000\n",
    "for epoch in range(n_epochs):\n",
    "    # Step 1_forward pass\n",
    "    y_pred= model(x)\n",
    "\n",
    "    # Step 2_compute loss\n",
    "    loss = criterion(y_pred,y)\n",
    "\n",
    "    # Step 3_zero the gradinet\n",
    "    optim.zero_grad()\n",
    "\n",
    "    # Step 4_backward to computer gradient \n",
    "    loss.backward()\n",
    "\n",
    "    # Step 5 update params\n",
    "    optim.step()\n",
    "\n",
    "\n",
    "    # print the accuracy every 1000th epoch\n",
    "    if epoch % 1000 == 0:\n",
    "        print(accuracy(y_pred,y))"
   ]
  },
  {
   "cell_type": "code",
   "execution_count": null,
   "metadata": {},
   "outputs": [],
   "source": []
  }
 ],
 "metadata": {
  "interpreter": {
   "hash": "3c8b415c9bd697242d4fa50a35c45fc588a9b150a134f9df595c9d926d085b2c"
  },
  "kernelspec": {
   "display_name": "Python 3.9.7 64-bit ('idl21_2': conda)",
   "language": "python",
   "name": "python3"
  },
  "language_info": {
   "codemirror_mode": {
    "name": "ipython",
    "version": 3
   },
   "file_extension": ".py",
   "mimetype": "text/x-python",
   "name": "python",
   "nbconvert_exporter": "python",
   "pygments_lexer": "ipython3",
   "version": "3.9.0"
  },
  "orig_nbformat": 4
 },
 "nbformat": 4,
 "nbformat_minor": 2
}
