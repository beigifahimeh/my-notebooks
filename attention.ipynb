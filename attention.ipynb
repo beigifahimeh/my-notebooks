{
 "cells": [
  {
   "cell_type": "code",
   "execution_count": 1,
   "metadata": {},
   "outputs": [],
   "source": [
    "import torch\n",
    "import torch.nn.functional as F"
   ]
  },
  {
   "cell_type": "code",
   "execution_count": 6,
   "metadata": {},
   "outputs": [
    {
     "name": "stdout",
     "output_type": "stream",
     "text": [
      "tensor([[ 1., -1.],\n",
      "        [ 0.,  1.],\n",
      "        [ 2.,  1.]])\n",
      "tensor([[3., 1.],\n",
      "        [1., 1.],\n",
      "        [0., 1.]])\n",
      "tensor([[-3.,  0.],\n",
      "        [ 3.,  0.],\n",
      "        [-1.,  1.]])\n"
     ]
    }
   ],
   "source": [
    "X = torch.tensor([[0, 0, 1], [0, 1, 0], [1, 0, 0],], dtype=torch.float)\n",
    "W_Q = torch.tensor([[2, 1], [0, 1], [1, -1],], dtype=torch.float)\n",
    "W_K = torch.tensor([[0, 1], [1, 1], [3, 1],], dtype=torch.float)\n",
    "W_V = torch.tensor([[-1, 1], [3, 0], [-3, 0],], dtype=torch.float)\n",
    "Q = X @ W_Q\n",
    "K = X @ W_K\n",
    "V = X @ W_V\n",
    "print(Q)\n",
    "print(K)\n",
    "print(V)\n"
   ]
  },
  {
   "cell_type": "code",
   "execution_count": 23,
   "metadata": {},
   "outputs": [
    {
     "name": "stdout",
     "output_type": "stream",
     "text": [
      "tensor([[ 1.4142,  0.0000, -0.7071],\n",
      "        [ 0.7071,  0.7071,  0.7071],\n",
      "        [ 4.9497,  2.1213,  0.7071]])\n",
      "tensor([[0.7337, 0.1784, 0.0879],\n",
      "        [0.3333, 0.3333, 0.3333],\n",
      "        [0.9316, 0.0551, 0.0134]])\n"
     ]
    }
   ],
   "source": [
    "d = Q @ K.T\n",
    "print(d)\n",
    "x = 1/torch.sqrt(torch.tensor(2)) * Q @ K.T\n",
    "print(x)\n",
    "a =F.softmax(1/torch.sqrt(torch.tensor(2)) * Q @ K.T, dim=1)\n",
    "print(a)\n",
    "Z = F.softmax(1/torch.sqrt(torch.tensor(2)) * Q @ K.T, dim=1) @ V"
   ]
  },
  {
   "cell_type": "code",
   "execution_count": null,
   "metadata": {},
   "outputs": [],
   "source": []
  }
 ],
 "metadata": {
  "interpreter": {
   "hash": "aee8b7b246df8f9039afb4144a1f6fd8d2ca17a180786b69acc140d282b71a49"
  },
  "kernelspec": {
   "display_name": "Python 3.9.0 64-bit",
   "language": "python",
   "name": "python3"
  },
  "language_info": {
   "codemirror_mode": {
    "name": "ipython",
    "version": 3
   },
   "file_extension": ".py",
   "mimetype": "text/x-python",
   "name": "python",
   "nbconvert_exporter": "python",
   "pygments_lexer": "ipython3",
   "version": "3.9.0"
  },
  "orig_nbformat": 4
 },
 "nbformat": 4,
 "nbformat_minor": 2
}
